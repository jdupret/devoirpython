{
  "nbformat": 4,
  "nbformat_minor": 0,
  "metadata": {
    "colab": {
      "provenance": []
    },
    "kernelspec": {
      "name": "python3",
      "display_name": "Python 3"
    },
    "language_info": {
      "name": "python"
    }
  },
  "cells": [
    {
      "cell_type": "code",
      "execution_count": 1,
      "metadata": {
        "id": "JZqNIrZscYU5"
      },
      "outputs": [],
      "source": [
        "__author__ = 'Miloungou Jedidja WL Dupret Joyeux'\n",
        "__license__ = 'None'\n",
        "__version__ = '0.1.0'\n",
        "__email__ = 'joyeuxdupret@gmail.com'\n"
      ]
    },
    {
      "cell_type": "markdown",
      "source": [
        "**Exercice 1**"
      ],
      "metadata": {
        "id": "s0EsSCCJdIuG"
      }
    },
    {
      "cell_type": "markdown",
      "source": [
        "Une premiere maniere en utilisant une liste"
      ],
      "metadata": {
        "id": "ezIBkjN2gOMx"
      }
    },
    {
      "cell_type": "code",
      "source": [
        "# Definition de la fontion transform\n",
        "def transform(chaincaractere):\n",
        "    # Separation des chaînes en listes d'entiers\n",
        "    list1 = list(map(int, chaincaractere[0].split(\", \")))\n",
        "    list2 = list(map(int, chaincaractere[1].split(\", \")))\n",
        "    # Verification de l'existence de nombres en commun dans les deux chaines\n",
        "    common_numbers = set(list1) & set(list2)\n",
        "    if not common_numbers:\n",
        "        return None\n",
        "    # Fusion des deux listes sans les doublons\n",
        "    unique_numbers = sorted(set(list1 + list2))\n",
        "    # Creation de la nouvelle chaine de caracteres\n",
        "    nouvchaine = \",\".join(map(str, unique_numbers)) + \": Miloungou Jedidja WL D Joyeux M1 IA\"\n",
        "    return nouvchaine\n",
        "    pass\n",
        "# vous ne modifierez rien après cette ligne\n",
        "if __name__ == \"__main__\":\n",
        "  arr1 = [\"1, 3, 4, 7, 13\", \"1, 2, 4, 13, 15\"]\n",
        "  out = transform(arr1)\n",
        "  print(out) # doit afficher ---> 31,4,1:nom_prenom_classe\n",
        "  arr3 = [\"9, 3, 5, 7, 14\", \"10, 2, 6, 16, 15\"]\n",
        "  out = transform(arr3)\n",
        "  print(out) # doit afficher ---> None"
      ],
      "metadata": {
        "colab": {
          "base_uri": "https://localhost:8080/"
        },
        "id": "gRC-Y8zsct8R",
        "outputId": "ff80d81d-e7da-4b6b-d91c-8028e0e7486b"
      },
      "execution_count": 12,
      "outputs": [
        {
          "output_type": "stream",
          "name": "stdout",
          "text": [
            "1,2,3,4,7,13,15: Miloungou, Jedidja WL D Joyeux M1 IA\n",
            "None\n"
          ]
        }
      ]
    },
    {
      "cell_type": "markdown",
      "source": [
        "Deuxieme maniere en utilisant un ensemble sets"
      ],
      "metadata": {
        "id": "OavVj-ftpiZ6"
      }
    },
    {
      "cell_type": "code",
      "source": [
        "# Definition de la fontion transform\n",
        "def transform(chaincaractere):\n",
        "    # Conversion des chaines en d'entiers\n",
        "    set1 = set(map(int, chaincaractere[0].split(\", \")))\n",
        "    set2 = set(map(int, chaincaractere[1].split(\", \")))\n",
        "    # Verification de l'existence de nombres en commun dans les deux chaines\n",
        "    common_numbers = set1 & set2\n",
        "    if not common_numbers:\n",
        "        return None\n",
        "    # Creation de la nouvelle chaine de caracteres\n",
        "    nouvchaine = \",\".join(map(str, sorted(set1.union(set2)))) + \": Miloungou Jedidja WL D Joyeux M1 IA\"\n",
        "    return nouvchaine\n",
        "    pass\n",
        "# vous ne modifierez rien après cette ligne\n",
        "if __name__ == \"__main__\":\n",
        "  arr1 = [\"1, 3, 4, 7, 13\", \"1, 2, 4, 13, 15\"]\n",
        "  out = transform(arr1)\n",
        "  print(out) # doit afficher ---> 31,4,1:nom_prenom_classe\n",
        "  arr3 = [\"9, 3, 5, 7, 14\", \"10, 2, 6, 16, 15\"]\n",
        "  out = transform(arr3)\n",
        "  print(out) # doit afficher ---> None"
      ],
      "metadata": {
        "colab": {
          "base_uri": "https://localhost:8080/"
        },
        "id": "7J5HziMTpqIW",
        "outputId": "1b1caa7b-f827-4b0e-c61e-d39cfaae7950"
      },
      "execution_count": 13,
      "outputs": [
        {
          "output_type": "stream",
          "name": "stdout",
          "text": [
            "1,2,3,4,7,13,15: Miloungou Jedidja WL D Joyeux M1 IA\n",
            "None\n"
          ]
        }
      ]
    },
    {
      "cell_type": "markdown",
      "source": [
        "**Exercice 2**"
      ],
      "metadata": {
        "id": "Q2Yo0DR3q1BO"
      }
    },
    {
      "cell_type": "code",
      "source": [
        "import operator\n",
        "# Declaration de la liste 1\n",
        "list1 = list(range(1200, 2000, 135))\n",
        "# Declaration de la liste 2 en utilisant une boucle for et la condition if\n",
        "list2 = []\n",
        "for i in list1:\n",
        "    if i % 2 == 0:\n",
        "        list2.append(i * 2)\n",
        "# Combinaison des deux listes\n",
        "listvf = list1+list2\n",
        "# Je compte chercher les nombres pairs et impairs dans les listes creees numbers = (1, 2, 3, 4, 5, 6, 7, 8, 9)\n",
        "# Declaration des listes o (liste des nombres pairs) et e (liste des nombres impairs)\n",
        "o = []\n",
        "e = []\n",
        "#\n",
        "for x in listvf:\n",
        "    if x % 2 == 0:\n",
        "        o.append(x)\n",
        "    else:\n",
        "        e.append(x)\n",
        "print(\"La liste 1 est: {}\".format(list1))\n",
        "print(\"La liste 2 est: {}\".format(list2))\n",
        "print(\"La combinaison des deux listes est: {}\".format(listvf))\n",
        "print(\"La liste des nombre pairs est: {}\".format(o))\n",
        "print(\"La liste des nombre impairs est: {}\".format(e))"
      ],
      "metadata": {
        "colab": {
          "base_uri": "https://localhost:8080/"
        },
        "id": "LT2u9qH5q34q",
        "outputId": "43a98bc3-3979-4ade-bbcf-71ef110eb58d"
      },
      "execution_count": 27,
      "outputs": [
        {
          "output_type": "stream",
          "name": "stdout",
          "text": [
            "La liste 1 est: [1200, 1335, 1470, 1605, 1740, 1875]\n",
            "La liste 2 est: [2400, 2940, 3480]\n",
            "La combinaison des deux listes est: [1200, 1335, 1470, 1605, 1740, 1875, 2400, 2940, 3480]\n",
            "La liste des nombre pairs est: [1200, 1470, 1740, 2400, 2940, 3480]\n",
            "La liste des nombre impairs est: [1335, 1605, 1875]\n"
          ]
        }
      ]
    },
    {
      "cell_type": "markdown",
      "source": [
        "**Exercice 3**"
      ],
      "metadata": {
        "id": "tf1TRVztyiJP"
      }
    },
    {
      "cell_type": "markdown",
      "source": [
        "Premiere maniere : Calcul de la somme et soustraction"
      ],
      "metadata": {
        "id": "FhqLY_9HzCjX"
      }
    },
    {
      "cell_type": "code",
      "source": [
        "import sqlite3\n",
        "# Definition de la retrouvestockena qui permet de trouve et stocker la valeur manquante\n",
        "def retrouvestockena(arr):\n",
        "    x, y = min(arr), max(arr)\n",
        "    sommeattendu = (y * (y + 1) - x * (x - 1)) // 2\n",
        "    sommeactuel = sum(arr)\n",
        "    na = sommeattendu - sommeactuel\n",
        "    # Stocker la valeur manquante dans la table SQLite\n",
        "    store_missing_number_in_database(na)\n",
        "    return na\n",
        "def store_missing_number_in_database(number):\n",
        "    # Connexion a la table SQLite\n",
        "    connection = sqlite3.connect(\"database.db\")\n",
        "    cursor = connection.cursor()\n",
        "    # Création d'une table si elle n'existe pas\n",
        "    cursor.execute('''CREATE TABLE IF NOT EXISTS MissingNumbers (number INTEGER)''')\n",
        "    # Insertion de la valeur manquante dans la table\n",
        "    cursor.execute(\"INSERT INTO MissingNumbers VALUES (?)\", (number,))\n",
        "    connection.commit()\n",
        "    connection.close()\n",
        "\n",
        "# Exemple d'utilisation\n",
        "# Saisie de la liste depuis l'utilisateur\n",
        "nombres = input(\"Saisissez les nombres : \")\n",
        "arr = list(map(int, nombres.split()))\n",
        "result = retrouvestockena(arr)\n",
        "print(\"Nombre manquant:\", result)\n"
      ],
      "metadata": {
        "colab": {
          "base_uri": "https://localhost:8080/"
        },
        "id": "9IyiG8nozAhy",
        "outputId": "775dd330-5d1c-4e8f-cbb1-1ddf8ff9ffc0"
      },
      "execution_count": 30,
      "outputs": [
        {
          "output_type": "stream",
          "name": "stdout",
          "text": [
            "Saisissez les nombres : 6 8 9\n",
            "Nombre manquant: 7\n"
          ]
        }
      ]
    },
    {
      "cell_type": "markdown",
      "source": [
        "Deuxieme maniere"
      ],
      "metadata": {
        "id": "Yke3POP61ixe"
      }
    },
    {
      "cell_type": "code",
      "source": [
        "import sqlite3\n",
        "\n",
        "def retrouvestockena(arr):\n",
        "    x, y = min(arr), max(arr)\n",
        "\n",
        "    for i in range(x, y):\n",
        "        if i not in arr:\n",
        "            missing_number = i\n",
        "\n",
        "            # Stocker le nombre manquant dans la table SQLite\n",
        "            store_missing_number_in_database(missing_number)\n",
        "\n",
        "            return missing_number\n",
        "\n",
        "def store_missing_number_in_database(number):\n",
        "    # Exemple basique de stockage dans une table SQLite\n",
        "    connection = sqlite3.connect(\"database.db\")\n",
        "    cursor = connection.cursor()\n",
        "\n",
        "    # Création d'une table si elle n'existe pas\n",
        "    cursor.execute('''CREATE TABLE IF NOT EXISTS MissingNumbers (number INTEGER)''')\n",
        "\n",
        "    # Insertion du nombre manquant dans la table\n",
        "    cursor.execute(\"INSERT INTO MissingNumbers VALUES (?)\", (number,))\n",
        "\n",
        "    connection.commit()\n",
        "    connection.close()\n",
        "\n",
        "# Exemple d'utilisation\n",
        "# Saisie de la liste depuis l'utilisateur\n",
        "nombres = input(\"Saisissez les nombres : \")\n",
        "arr = list(map(int, nombres.split()))\n",
        "result = retrouvestockena(arr)\n",
        "print(\"Nombre manquant:\", result)\n"
      ],
      "metadata": {
        "colab": {
          "base_uri": "https://localhost:8080/"
        },
        "id": "d9irQvgp1tUj",
        "outputId": "825688ba-b820-43ea-aa97-6dc9cd3d457b"
      },
      "execution_count": 31,
      "outputs": [
        {
          "output_type": "stream",
          "name": "stdout",
          "text": [
            "Saisissez les nombres : 6 4 2 2 \n",
            "Nombre manquant: 3\n"
          ]
        }
      ]
    }
  ]
}